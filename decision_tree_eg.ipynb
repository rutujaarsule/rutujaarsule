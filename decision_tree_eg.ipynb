{
  "nbformat": 4,
  "nbformat_minor": 0,
  "metadata": {
    "colab": {
      "name": "scratchpad",
      "provenance": [],
      "include_colab_link": true
    },
    "kernelspec": {
      "display_name": "Python 3",
      "name": "python3"
    }
  },
  "cells": [
    {
      "cell_type": "markdown",
      "metadata": {
        "id": "view-in-github",
        "colab_type": "text"
      },
      "source": [
        "<a href=\"https://colab.research.google.com/github/rutujaarsule/rutujaarsule/blob/main/decision_tree_eg.ipynb\" target=\"_parent\"><img src=\"https://colab.research.google.com/assets/colab-badge.svg\" alt=\"Open In Colab\"/></a>"
      ]
    },
    {
      "cell_type": "code",
      "metadata": {
        "colab": {
          "base_uri": "https://localhost:8080/"
        },
        "id": "lIYdn1woOS1n",
        "outputId": "d391fa2d-624d-4ee9-82d6-54635153db64"
      },
      "source": [
        "pip install graphviz"
      ],
      "execution_count": 2,
      "outputs": [
        {
          "output_type": "stream",
          "text": [
            "Requirement already satisfied: graphviz in /usr/local/lib/python3.7/dist-packages (0.10.1)\n"
          ],
          "name": "stdout"
        }
      ]
    },
    {
      "cell_type": "code",
      "metadata": {
        "id": "3xz76hWvSfP3"
      },
      "source": [
        "import graphviz"
      ],
      "execution_count": 3,
      "outputs": []
    },
    {
      "cell_type": "code",
      "metadata": {
        "colab": {
          "base_uri": "https://localhost:8080/"
        },
        "id": "vxxgG_MERvhz",
        "outputId": "bd3646e3-fcad-42c7-b457-e1628533c290"
      },
      "source": [
        "from google.colab import drive\n",
        "drive.mount('/content/drive')"
      ],
      "execution_count": 1,
      "outputs": [
        {
          "output_type": "stream",
          "text": [
            "Mounted at /content/drive\n"
          ],
          "name": "stdout"
        }
      ]
    },
    {
      "cell_type": "code",
      "metadata": {
        "id": "C9oK9gWrSmfz"
      },
      "source": [
        "import pandas as pd\n",
        "import numpy as np\n",
        "from sklearn.model_selection import train_test_split \n",
        "from sklearn.metrics import confusion_matrix, classification_report\n",
        "from sklearn.metrics import accuracy_score\n",
        "from sklearn.tree import DecisionTreeClassifier\n",
        "from sklearn.metrics import plot_confusion_matrix\n",
        "from sklearn.metrics import roc_curve, roc_auc_score\n",
        "import matplotlib.pyplot as plt\n",
        "import graphviz \n",
        "from sklearn import tree\n",
        "from sklearn.model_selection import StratifiedKFold\n",
        "from sklearn.model_selection import GridSearchCV\n",
        "from sklearn import tree\n",
        "import matplotlib.pyplot as plt\n"
      ],
      "execution_count": 4,
      "outputs": []
    },
    {
      "cell_type": "code",
      "metadata": {
        "id": "ynttb2U9egTW"
      },
      "source": [
        "df = pd.read_csv(\"/content/drive/MyDrive/Cases-20210808T054514Z-001/Cases/Satellite Imaging/Satellite.csv\",sep=\";\")\n",
        "X = df.iloc[:,:-1]\n",
        "y = df.iloc[:,-1]\n"
      ],
      "execution_count": 19,
      "outputs": []
    },
    {
      "cell_type": "code",
      "metadata": {
        "id": "nbWKOlBXfjOX"
      },
      "source": [
        "depth_range = [2,3,4,5,6,7,8,9,10,11,12,13,14,15,16,17,18,19,20]\n",
        "minsplit_range = [5,10,20,30,40,50,60]\n",
        "minleaf_range = [5,10,20,30,40,50,60]"
      ],
      "execution_count": 20,
      "outputs": []
    },
    {
      "cell_type": "code",
      "metadata": {
        "id": "4eaI8hX0fnAL"
      },
      "source": [
        "parameters = dict(max_depth=depth_range,\n",
        "                  min_samples_split=minsplit_range, \n",
        "                  min_samples_leaf=minleaf_range)"
      ],
      "execution_count": 21,
      "outputs": []
    },
    {
      "cell_type": "code",
      "metadata": {
        "id": "iXM7YZrHfqLi"
      },
      "source": [
        "from sklearn.model_selection import StratifiedKFold\n",
        "kfold = StratifiedKFold(n_splits=5, random_state=2021,\n",
        "                        shuffle=True)"
      ],
      "execution_count": 14,
      "outputs": []
    },
    {
      "cell_type": "code",
      "metadata": {
        "colab": {
          "base_uri": "https://localhost:8080/"
        },
        "id": "DKKR5eYdfu-D",
        "outputId": "6303e602-c8ab-4724-e88f-088215280058"
      },
      "source": [
        "from sklearn.model_selection import GridSearchCV\n",
        "clf = DecisionTreeClassifier(random_state=2021)\n",
        "cv = GridSearchCV(clf, param_grid=parameters,\n",
        "                  cv=kfold,scoring='roc_auc_ovr')\n",
        "cv.fit(X,y)\n",
        "\n",
        "# Viewing all parameter sets\n",
        "df_cv = pd.DataFrame(cv.cv_results_)\n",
        "\n",
        "# Best Parameters\n",
        "print(cv.best_params_)\n",
        "\n",
        "print(cv.best_score_)"
      ],
      "execution_count": 22,
      "outputs": [
        {
          "output_type": "stream",
          "text": [
            "{'max_depth': 13, 'min_samples_leaf': 50, 'min_samples_split': 5}\n",
            "0.9666629742221122\n"
          ],
          "name": "stdout"
        }
      ]
    },
    {
      "cell_type": "code",
      "metadata": {
        "id": "TSz2b5cZnEl5"
      },
      "source": [
        "tree.plot_tree(best_model,feature_names=X.columns,\n",
        "               class_names=y.unique(),\n",
        "               filled=True,fontsize=5)"
      ],
      "execution_count": null,
      "outputs": []
    },
    {
      "cell_type": "code",
      "metadata": {
        "id": "U0smuORqfz0M"
      },
      "source": [
        "tree.plot_tree(best_model,feature_names=X.columns,\n",
        "               class_names=y.unique(),\n",
        "               filled=True,fontsize=5)\n",
        "from sklearn import tree\n",
        "dot_data = tree.export_graphviz(best_model, out_file=None, \n",
        "                         feature_names=X.columns,  \n",
        "                         class_names=y.unique(),  \n",
        "                         filled=True, rounded=True,  \n",
        "                         special_characters=True)  \n",
        "graph = graphviz.Source(dot_data)  \n",
        "graph"
      ],
      "execution_count": null,
      "outputs": []
    },
    {
      "cell_type": "code",
      "metadata": {
        "id": "S6b-Lyw1rjih"
      },
      "source": [
        "df = pd.read_csv(\"/content/drive/MyDrive/Cases-20210808T054514Z-001/Cases/Concrete Strength/Concrete_Data.csv\")\n",
        "X = df.iloc[:,:-1]\n",
        "y = df.iloc[:,-1]"
      ],
      "execution_count": 46,
      "outputs": []
    },
    {
      "cell_type": "code",
      "metadata": {
        "colab": {
          "base_uri": "https://localhost:8080/"
        },
        "id": "rBjR4fG8x5Ok",
        "outputId": "2c4eddf7-322e-4262-8e59-a3e069da50a1"
      },
      "source": [
        "from sklearn.model_selection import train_test_split \n",
        "from sklearn.tree import DecisionTreeRegressor\n",
        "depth_range = [3,4,5,6,7,8,9]\n",
        "minsplit_range = [5,10,20,25,30]\n",
        "minleaf_range = [5,10,15]\n",
        "\n",
        "parameters = dict(max_depth=depth_range,\n",
        "                  min_samples_split=minsplit_range, \n",
        "                  min_samples_leaf=minleaf_range)\n",
        "\n",
        "from sklearn.model_selection import KFold\n",
        "kfold = KFold(n_splits=5, random_state=2021,shuffle=True)\n",
        "from sklearn.model_selection import GridSearchCV\n",
        "clf = DecisionTreeRegressor(random_state=2021)\n",
        "cv = GridSearchCV(clf, param_grid=parameters,\n",
        "                  cv=kfold,scoring='r2')\n",
        "\n",
        "cv.fit(X,y)\n",
        "# Best Parameters\n",
        "print(cv.best_params_)\n",
        "\n",
        "print(cv.best_score_)\n",
        "\n",
        "cv.best_estimator_"
      ],
      "execution_count": 48,
      "outputs": [
        {
          "output_type": "stream",
          "text": [
            "{'max_depth': 9, 'min_samples_leaf': 5, 'min_samples_split': 5}\n",
            "0.8103675395686103\n"
          ],
          "name": "stdout"
        },
        {
          "output_type": "execute_result",
          "data": {
            "text/plain": [
              "DecisionTreeRegressor(ccp_alpha=0.0, criterion='mse', max_depth=9,\n",
              "                      max_features=None, max_leaf_nodes=None,\n",
              "                      min_impurity_decrease=0.0, min_impurity_split=None,\n",
              "                      min_samples_leaf=5, min_samples_split=5,\n",
              "                      min_weight_fraction_leaf=0.0, presort='deprecated',\n",
              "                      random_state=2021, splitter='best')"
            ]
          },
          "metadata": {
            "tags": []
          },
          "execution_count": 48
        }
      ]
    }
  ]
}